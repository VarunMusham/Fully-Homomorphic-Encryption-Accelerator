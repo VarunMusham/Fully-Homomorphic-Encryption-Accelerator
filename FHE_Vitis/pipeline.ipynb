{
 "cells": [
  {
   "cell_type": "code",
   "execution_count": 30,
   "id": "e0601ad3",
   "metadata": {},
   "outputs": [],
   "source": [
    "import numpy as np\n",
    "\n",
    "\n",
    "N = 512\n",
    "MOD = 7681\n",
    "DELTA = 2  \n",
    "\n",
    "def mulmod(a, b):\n",
    "    return (a * b) % MOD\n",
    "\n",
    "def addmod(a, b):\n",
    "    res = a + b\n",
    "    return res - MOD if res >= MOD else res\n",
    "\n",
    "def submod(a, b):\n",
    "    res = a - b\n",
    "    return res + MOD if res < 0 else res\n",
    "\n",
    "def modpow(x, e):\n",
    "    res = 1\n",
    "    while e:\n",
    "        if e & 1:\n",
    "            res = mulmod(res, x)\n",
    "        x = mulmod(x, x)\n",
    "        e >>= 1\n",
    "    return res\n",
    "\n",
    "\n",
    "def bit_reverse(x, logn):\n",
    "    res = 0\n",
    "    for i in range(logn):\n",
    "        if x & (1 << i):\n",
    "            res |= 1 << (logn - 1 - i)\n",
    "    return res\n",
    "\n",
    "def ntt(a, root=7146):\n",
    "    logn = N.bit_length() - 1\n",
    "    a = np.copy(a)\n",
    "    \n",
    "    for i in range(N):\n",
    "        j = bit_reverse(i, logn)\n",
    "        if i < j:\n",
    "            a[i], a[j] = a[j], a[i]\n",
    "\n",
    "    len_ = 2\n",
    "    while len_ <= N:\n",
    "        wlen = modpow(root, N // len_)\n",
    "        for i in range(0, N, len_):\n",
    "            w = 1\n",
    "            for j in range(len_ // 2):\n",
    "                u = a[i + j]\n",
    "                v = mulmod(a[i + j + len_ // 2], w)\n",
    "                a[i + j] = addmod(u, v)\n",
    "                a[i + j + len_ // 2] = submod(u, v)\n",
    "                w = mulmod(w, wlen)\n",
    "        len_ <<= 1\n",
    "    return a\n",
    "\n",
    "def intt(a, root_inv=7480, n_inv=7666):\n",
    "    a = ntt(a, root=root_inv)\n",
    "    return [(mulmod(x, n_inv)) for x in a]\n"
   ]
  },
  {
   "cell_type": "code",
   "execution_count": 31,
   "id": "93236aa3",
   "metadata": {},
   "outputs": [],
   "source": [
    "def string_to_bitarray(message):\n",
    "    bit_array = []\n",
    "    for c in message:\n",
    "        ascii_val = ord(c)  \n",
    "        bits = [(ascii_val >> i) & 1 for i in reversed(range(8))]\n",
    "        bit_array.extend(bits)\n",
    "    return np.array(bit_array, dtype=np.uint32)\n"
   ]
  },
  {
   "cell_type": "code",
   "execution_count": 32,
   "id": "37727f92",
   "metadata": {},
   "outputs": [],
   "source": [
    "def bitarray_to_string(bit_array):\n",
    "    chars = []\n",
    "    for i in range(0, len(bit_array), 8):\n",
    "        byte = bit_array[i:i+8]\n",
    "        if len(byte) < 8:\n",
    "            break  \n",
    "        val = 0\n",
    "        for bit in byte:\n",
    "            val = (val << 1) | bit\n",
    "        chars.append(chr(val))\n",
    "    return ''.join(chars)\n"
   ]
  },
  {
   "cell_type": "code",
   "execution_count": 33,
   "id": "778953ad",
   "metadata": {},
   "outputs": [],
   "source": [
    "def keygen(A, S, E):\n",
    "    assert len(A) == len(S) == len(E) == N\n",
    "\n",
    "    A_ntt = ntt(A[:])\n",
    "    S_ntt = ntt(S[:])\n",
    "    pk_ntt = [mulmod(A_ntt[i], S_ntt[i]) for i in range(N)]\n",
    "    pk = intt(pk_ntt)\n",
    "    pk = [addmod(pk[i], mulmod(E[i], 2)) for i in range(N)]\n",
    "    return pk\n"
   ]
  },
  {
   "cell_type": "code",
   "execution_count": 34,
   "id": "2bc43938",
   "metadata": {},
   "outputs": [
    {
     "name": "stdout",
     "output_type": "stream",
     "text": [
      "Public Key (first 8): [7633, 6814, 4459, 568, 2822, 3540, 2722, 368]\n"
     ]
    }
   ],
   "source": [
    "A = [i % MOD for i in range(N)]\n",
    "S = [(3 * i + 1) % MOD for i in range(N)]\n",
    "E = [1 for _ in range(N)]\n",
    "\n",
    "pk = keygen(A, S, E)\n",
    "\n",
    "print(\"Public Key (first 8):\", pk[:8])\n"
   ]
  },
  {
   "cell_type": "code",
   "execution_count": null,
   "id": "53c247ca",
   "metadata": {},
   "outputs": [],
   "source": [
    "def encrypt(A, pk, R, M):\n",
    "    assert len(A) == len(pk) == len(R) == len(M) == N\n",
    "\n",
    "    # Encrypt → V = A ⋆ R\n",
    "    A_ntt = ntt(A[:])\n",
    "    R_ntt = ntt(R[:])\n",
    "    V_ntt = [mulmod(A_ntt[i], R_ntt[i]) for i in range(N)]\n",
    "    V = intt(V_ntt)\n",
    "\n",
    "    # Encrypt → W = pk ⋆ R + M\n",
    "    pk_ntt = ntt(pk[:])\n",
    "    R_ntt = ntt(R[:])  \n",
    "    W_ntt = [mulmod(pk_ntt[i], R_ntt[i]) for i in range(N)]\n",
    "    W = intt(W_ntt)\n",
    "    W = [addmod(W[i], M[i]) for i in range(N)]\n",
    "\n",
    "    return V, W\n"
   ]
  },
  {
   "cell_type": "code",
   "execution_count": 36,
   "id": "62aaf3d3",
   "metadata": {},
   "outputs": [
    {
     "name": "stdout",
     "output_type": "stream",
     "text": [
      "V (first 8): [239, 239, 239, 239, 239, 239, 239, 239]\n",
      "W (first 8): [2877, 2878, 2877, 2877, 2878, 2877, 2877, 2877]\n"
     ]
    }
   ],
   "source": [
    "R  = [1 for _ in range(N)]\n",
    "message = \"HELLO WORLD!\"\n",
    "msg_bits = string_to_bitarray(message)\n",
    "bit_len = len(msg_bits)\n",
    "\n",
    "\n",
    "if bit_len > 512:\n",
    "    raise ValueError(\"Message too long! Max 64 characters.\")\n",
    "\n",
    "M = np.zeros(512, dtype=np.uint32)\n",
    "M[:bit_len] = msg_bits\n",
    "\n",
    "V, W = encrypt(A, pk, R, M)\n",
    "\n",
    "print(\"V (first 8):\", V[:8])\n",
    "print(\"W (first 8):\", W[:8])\n"
   ]
  },
  {
   "cell_type": "code",
   "execution_count": 37,
   "id": "a59cd466",
   "metadata": {},
   "outputs": [],
   "source": [
    "def decrypt(V, W, S):\n",
    "    assert len(V) == len(W) == len(S) == N\n",
    "\n",
    "    V_ntt = ntt(V[:])\n",
    "    S_ntt = ntt(S[:])\n",
    "    U_ntt = [mulmod(V_ntt[i], S_ntt[i]) for i in range(N)]\n",
    "    U = intt(U_ntt)\n",
    "\n",
    "    M_out = [submod(W[i], U[i]) & 1 for i in range(N)]\n",
    "    return M_out\n"
   ]
  },
  {
   "cell_type": "code",
   "execution_count": 38,
   "id": "6130dd6f",
   "metadata": {},
   "outputs": [
    {
     "name": "stdout",
     "output_type": "stream",
     "text": [
      "Recovered Message (first 32 bits): [0, 1, 0, 0, 1, 0, 0, 0, 0, 1, 0, 0, 0, 1, 0, 1, 0, 1, 0, 0, 1, 1, 0, 0, 0, 1, 0, 0, 1, 1, 0, 0]\n"
     ]
    }
   ],
   "source": [
    "# Use V, W generated from encrypt()\n",
    "# S = [(3 * i + 1) % MOD for i in range(N)]\n",
    "\n",
    "m_recovered = decrypt(V, W, S)\n",
    "print(\"Recovered Message (first 32 bits):\", m_recovered[:32])\n"
   ]
  },
  {
   "cell_type": "code",
   "execution_count": 45,
   "id": "a27eecc7",
   "metadata": {},
   "outputs": [],
   "source": [
    "for i in range(N):\n",
    "    m_recovered[i] = 1 - m_recovered[i]  # Invert bits for comparison\n",
    "    if M[i] != m_recovered[i]:\n",
    "        print(f\"Error at index {i}: {m_recovered[i]} != {1 - m_recovered[i]}\")\n",
    "    "
   ]
  },
  {
   "cell_type": "code",
   "execution_count": 46,
   "id": "5dc77e71",
   "metadata": {},
   "outputs": [
    {
     "name": "stdout",
     "output_type": "stream",
     "text": [
      "Recovered Message (first 32 bits): [0, 1, 0, 0, 1, 0, 0, 0, 0, 1, 0, 0, 0, 1, 0, 1, 0, 1, 0, 0, 1, 1, 0, 0, 0, 1, 0, 0, 1, 1, 0, 0]\n"
     ]
    }
   ],
   "source": [
    "print(\"Recovered Message (first 32 bits):\", m_recovered[:32])"
   ]
  },
  {
   "cell_type": "code",
   "execution_count": 22,
   "id": "156c9ff3",
   "metadata": {},
   "outputs": [
    {
     "name": "stdout",
     "output_type": "stream",
     "text": [
      " Message (first 32 bits): [0 1 0 0 1 0 0 0 0 1 0 0 0 1 0 1 0 1 0 0 1 1 0 0 0 1 0 0 1 1 0 0]\n"
     ]
    }
   ],
   "source": [
    "print(\" Message (first 32 bits):\", M[:32])"
   ]
  },
  {
   "cell_type": "code",
   "execution_count": null,
   "id": "caae530c",
   "metadata": {},
   "outputs": [],
   "source": []
  },
  {
   "cell_type": "markdown",
   "id": "9828cbec",
   "metadata": {},
   "source": [
    "# Hardware Implementation"
   ]
  },
  {
   "cell_type": "code",
   "execution_count": 29,
   "id": "78c76ce2",
   "metadata": {},
   "outputs": [],
   "source": [
    "N = 512\n",
    "MOD = 7681\n"
   ]
  },
  {
   "cell_type": "code",
   "execution_count": null,
   "id": "276940d8",
   "metadata": {},
   "outputs": [],
   "source": [
    "ol = Overlay(\"keygen.bit\")\n",
    "dma = ol.axi_dma_0  \n",
    "\n",
    "in_buffer = allocate(shape=(N * 3,), dtype=np.uint32)  \n",
    "out_buffer = allocate(shape=(N,), dtype=np.uint32)   "
   ]
  },
  {
   "cell_type": "code",
   "execution_count": null,
   "id": "242d4030",
   "metadata": {},
   "outputs": [],
   "source": [
    "in_buffer[0::3] = A\n",
    "in_buffer[1::3] = S\n",
    "in_buffer[2::3] = E"
   ]
  },
  {
   "cell_type": "code",
   "execution_count": null,
   "id": "21b11365",
   "metadata": {},
   "outputs": [],
   "source": [
    "dma.sendchannel.transfer(in_buffer)\n",
    "dma.recvchannel.transfer(out_buffer)\n",
    "\n",
    "dma.sendchannel.wait()\n",
    "dma.recvchannel.wait()"
   ]
  },
  {
   "cell_type": "code",
   "execution_count": null,
   "id": "78389639",
   "metadata": {},
   "outputs": [],
   "source": [
    "pk_hw = out_buffer[:N]\n",
    "print(\"Public Key (first 8):\", pk_hw[:8])"
   ]
  },
  {
   "cell_type": "markdown",
   "id": "10ae1311",
   "metadata": {},
   "source": [
    "### Encryption"
   ]
  },
  {
   "cell_type": "code",
   "execution_count": null,
   "id": "02b847b8",
   "metadata": {},
   "outputs": [],
   "source": [
    "ol = Overlay(\"encrypt.bit\")\n",
    "dma = ol.axi_dma_0  "
   ]
  },
  {
   "cell_type": "code",
   "execution_count": null,
   "id": "f35bb23b",
   "metadata": {},
   "outputs": [],
   "source": [
    "in_buffer = allocate(shape=(N * 4,), dtype=np.uint32)  \n",
    "out_buffer = allocate(shape=(N*2,), dtype=np.uint32)   \n",
    "\n",
    "in_buffer[0::4] = A\n",
    "in_buffer[1::4] = pk_hw\n",
    "in_buffer[2::4] = R\n",
    "in_buffer[3::4] = M\n"
   ]
  },
  {
   "cell_type": "code",
   "execution_count": null,
   "id": "61ae6df5",
   "metadata": {},
   "outputs": [],
   "source": [
    "\n",
    "dma.sendchannel.transfer(in_buffer)\n",
    "dma.recvchannel.transfer(out_buffer)\n",
    "\n",
    "dma.sendchannel.wait()\n",
    "dma.recvchannel.wait()"
   ]
  },
  {
   "cell_type": "code",
   "execution_count": null,
   "id": "4ad5df18",
   "metadata": {},
   "outputs": [],
   "source": [
    "\n",
    "v= out_buffer[:N]\n",
    "w= out_buffer[N:]\n",
    "\n",
    "print(\"v (first 8):\", v[:8])\n",
    "print(\"w (first 8):\", w[:8])"
   ]
  },
  {
   "cell_type": "markdown",
   "id": "e6401598",
   "metadata": {},
   "source": [
    "### Decryption"
   ]
  },
  {
   "cell_type": "code",
   "execution_count": null,
   "id": "14b625e4",
   "metadata": {},
   "outputs": [],
   "source": [
    "ol = Overlay(\"decrypt.bit\")\n",
    "dma = ol.axi_dma_0  \n"
   ]
  },
  {
   "cell_type": "code",
   "execution_count": null,
   "id": "1b698a9d",
   "metadata": {},
   "outputs": [],
   "source": [
    "in_buffer = allocate(shape=(N * 3,), dtype=np.uint32)  \n",
    "out_buffer = allocate(shape=(N,), dtype=np.uint32)   \n",
    "\n",
    "in_buffer[0::3] = v\n",
    "in_buffer[1::3] = w\n",
    "in_buffer[2::3] = S"
   ]
  },
  {
   "cell_type": "code",
   "execution_count": null,
   "id": "fd5b798c",
   "metadata": {},
   "outputs": [],
   "source": [
    "\n",
    "dma.sendchannel.transfer(in_buffer)\n",
    "dma.recvchannel.transfer(out_buffer)\n",
    "\n",
    "dma.sendchannel.wait()\n",
    "dma.recvchannel.wait()"
   ]
  },
  {
   "cell_type": "code",
   "execution_count": null,
   "id": "8c2c5a13",
   "metadata": {},
   "outputs": [],
   "source": [
    "\n",
    "decrypted = out_buffer[:N]\n",
    "\n",
    "print(\"Decrypted (first 8):\", decrypted[:8])"
   ]
  },
  {
   "cell_type": "code",
   "execution_count": null,
   "id": "7a2c5b37",
   "metadata": {},
   "outputs": [],
   "source": [
    "msg_recovered = bitarray_to_string(decrypted)\n",
    "\n",
    "print(\"Message Sent: \", message)\n",
    "print(\"Recovered Message: \", msg_recovered)"
   ]
  }
 ],
 "metadata": {
  "kernelspec": {
   "display_name": "Python 3",
   "language": "python",
   "name": "python3"
  },
  "language_info": {
   "codemirror_mode": {
    "name": "ipython",
    "version": 3
   },
   "file_extension": ".py",
   "mimetype": "text/x-python",
   "name": "python",
   "nbconvert_exporter": "python",
   "pygments_lexer": "ipython3",
   "version": "3.12.4"
  }
 },
 "nbformat": 4,
 "nbformat_minor": 5
}
