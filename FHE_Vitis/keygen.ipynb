{
 "cells": [
  {
   "cell_type": "markdown",
   "id": "4946f055",
   "metadata": {},
   "source": [
    "# Software Simulation"
   ]
  },
  {
   "cell_type": "code",
   "execution_count": 1,
   "id": "d17afd3a",
   "metadata": {},
   "outputs": [],
   "source": [
    "import numpy as np\n",
    "\n",
    "\n",
    "N = 512\n",
    "MOD = 7681\n",
    "DELTA = 2  \n",
    "\n",
    "def mulmod(a, b):\n",
    "    return (a * b) % MOD\n",
    "\n",
    "def addmod(a, b):\n",
    "    res = a + b\n",
    "    return res - MOD if res >= MOD else res\n",
    "\n",
    "def submod(a, b):\n",
    "    res = a - b\n",
    "    return res + MOD if res < 0 else res\n",
    "\n",
    "def modpow(x, e):\n",
    "    res = 1\n",
    "    while e:\n",
    "        if e & 1:\n",
    "            res = mulmod(res, x)\n",
    "        x = mulmod(x, x)\n",
    "        e >>= 1\n",
    "    return res\n",
    "\n",
    "\n",
    "def bit_reverse(x, logn):\n",
    "    res = 0\n",
    "    for i in range(logn):\n",
    "        if x & (1 << i):\n",
    "            res |= 1 << (logn - 1 - i)\n",
    "    return res\n",
    "\n",
    "def ntt(a, root=7146):\n",
    "    logn = N.bit_length() - 1\n",
    "    a = np.copy(a)\n",
    "    \n",
    "    for i in range(N):\n",
    "        j = bit_reverse(i, logn)\n",
    "        if i < j:\n",
    "            a[i], a[j] = a[j], a[i]\n",
    "\n",
    "    len_ = 2\n",
    "    while len_ <= N:\n",
    "        wlen = modpow(root, N // len_)\n",
    "        for i in range(0, N, len_):\n",
    "            w = 1\n",
    "            for j in range(len_ // 2):\n",
    "                u = a[i + j]\n",
    "                v = mulmod(a[i + j + len_ // 2], w)\n",
    "                a[i + j] = addmod(u, v)\n",
    "                a[i + j + len_ // 2] = submod(u, v)\n",
    "                w = mulmod(w, wlen)\n",
    "        len_ <<= 1\n",
    "    return a\n",
    "\n",
    "def intt(a, root_inv=7480, n_inv=7666):\n",
    "    a = ntt(a, root=root_inv)\n",
    "    return [(mulmod(x, n_inv)) for x in a]\n",
    "\n",
    "\n",
    "def ref_keygen(A, S, E):\n",
    "    pk0 = np.zeros(N, dtype=np.uint32)\n",
    "    # V = np.zeros(N, dtype=np.uint32)\n",
    "    # W = np.zeros(N, dtype=np.uint32)\n",
    "    # U = np.zeros(N, dtype=np.uint32)\n",
    "\n",
    "    \n",
    "    tA = A.copy()\n",
    "    tS = S.copy()\n",
    "    tA = ntt(tA)\n",
    "    tS = ntt(tS)\n",
    "    tA = np.array([mulmod(x, y) for x, y in zip(tA, tS)])\n",
    "    tA = intt(tA)\n",
    "    pk0 = np.array([addmod(tA[i], mulmod(E[i], DELTA)) for i in range(N)])\n",
    "\n",
    "    \n",
    "    # tA = A.copy()\n",
    "    # tS = R.copy()\n",
    "    # tA = ntt(tA)\n",
    "    # tS = ntt(tS)\n",
    "    # V = np.array([mulmod(x, y) for x, y in zip(tA, tS)])\n",
    "    # V = intt(V)\n",
    "\n",
    "    \n",
    "    # tA = pk0.copy()\n",
    "    # tS = R.copy()\n",
    "    # tA = ntt(tA)\n",
    "    # tS = ntt(tS)\n",
    "    # W = np.array([mulmod(x, y) for x, y in zip(tA, tS)])\n",
    "    # W = intt(W)\n",
    "    # W = np.array([addmod(W[i], M[i]) for i in range(N)])\n",
    "\n",
    "    \n",
    "    # tA = V.copy()\n",
    "    # tS = S.copy()\n",
    "    # tA = ntt(tA)\n",
    "    # tS = ntt(tS)\n",
    "    # U = np.array([mulmod(x, y) for x, y in zip(tA, tS)])\n",
    "    # U = intt(U)\n",
    "\n",
    "    \n",
    "    # output = np.array([submod(W[i], U[i]) & 1 for i in range(N)], dtype=np.uint32)\n",
    "    # return output\n",
    "    return pk0"
   ]
  },
  {
   "cell_type": "code",
   "execution_count": 2,
   "id": "78d28ee1",
   "metadata": {},
   "outputs": [],
   "source": [
    "# def string_to_bitarray(message):\n",
    "#     bit_array = []\n",
    "#     for c in message:\n",
    "#         ascii_val = ord(c)  \n",
    "#         bits = [(ascii_val >> i) & 1 for i in reversed(range(8))]\n",
    "#         bit_array.extend(bits)\n",
    "#     return np.array(bit_array, dtype=np.uint32)\n"
   ]
  },
  {
   "cell_type": "code",
   "execution_count": 3,
   "id": "71ca1c84",
   "metadata": {},
   "outputs": [],
   "source": [
    "# def bitarray_to_string(bit_array):\n",
    "#     chars = []\n",
    "#     for i in range(0, len(bit_array), 8):\n",
    "#         byte = bit_array[i:i+8]\n",
    "#         if len(byte) < 8:\n",
    "#             break  \n",
    "#         val = 0\n",
    "#         for bit in byte:\n",
    "#             val = (val << 1) | bit\n",
    "#         chars.append(chr(val))\n",
    "#     return ''.join(chars)\n"
   ]
  },
  {
   "cell_type": "code",
   "execution_count": 4,
   "id": "b1d05b04",
   "metadata": {},
   "outputs": [],
   "source": [
    "# A = np.array([i % MOD for i in range(N)], dtype=np.uint32)\n",
    "# S = np.array([(i*3 + 1) % MOD for i in range(N)], dtype=np.uint32)\n",
    "# E = np.ones(N, dtype=np.uint32)\n",
    "# R = np.ones(N, dtype=np.uint32)\n",
    "# M = np.array([i & 1 for i in range(N)], dtype=np.uint32)\n",
    "# M=M*0\n",
    "# M[0] = 1  "
   ]
  },
  {
   "cell_type": "code",
   "execution_count": 5,
   "id": "bcdb5448",
   "metadata": {},
   "outputs": [],
   "source": [
    "# message = \"HELLO WORLD!\"\n",
    "# msg_bits = string_to_bitarray(message)\n",
    "# bit_len = len(msg_bits)\n",
    "\n",
    "\n",
    "# if bit_len > 512:\n",
    "#     raise ValueError(\"Message too long! Max 64 characters.\")\n",
    "\n",
    "# M = np.zeros(512, dtype=np.uint32)\n",
    "# M[:bit_len] = msg_bits\n",
    "\n",
    "\n",
    "A = np.array([i % MOD for i in range(N)], dtype=np.uint32)\n",
    "S = np.array([(i*3 + 1) % MOD for i in range(N)], dtype=np.uint32)\n",
    "E = np.ones(N, dtype=np.uint32)\n",
    "# R = np.ones(N, dtype=np.uint32)\n"
   ]
  },
  {
   "cell_type": "code",
   "execution_count": 6,
   "id": "1eebc00a",
   "metadata": {},
   "outputs": [],
   "source": [
    "pk = ref_keygen(A, S, E)"
   ]
  },
  {
   "cell_type": "code",
   "execution_count": 9,
   "id": "e21e3ba2",
   "metadata": {},
   "outputs": [
    {
     "name": "stdout",
     "output_type": "stream",
     "text": [
      "512\n"
     ]
    }
   ],
   "source": [
    "print(len(pk))"
   ]
  },
  {
   "cell_type": "code",
   "execution_count": 9,
   "id": "c2093642",
   "metadata": {},
   "outputs": [],
   "source": [
    "# print(\"Gold output:\", gold)"
   ]
  },
  {
   "cell_type": "code",
   "execution_count": 10,
   "id": "e8cfb863",
   "metadata": {},
   "outputs": [
    {
     "name": "stdout",
     "output_type": "stream",
     "text": [
      "Original message : HELLO WORLD!\n",
      "Recovered message: HELLO WORLD!\u0000\u0000\u0000\u0000\u0000\u0000\u0000\u0000\u0000\u0000\u0000\u0000\u0000\u0000\u0000\u0000\u0000\u0000\u0000\u0000\u0000\u0000\u0000\u0000\u0000\u0000\u0000\u0000\u0000\u0000\u0000\u0000\u0000\u0000\u0000\u0000\u0000\u0000\u0000\u0000\u0000\u0000\u0000\u0000\u0000\u0000\u0000\u0000\u0000\u0000\u0000\u0000\n"
     ]
    }
   ],
   "source": [
    "print(\"Original message :\", message)\n",
    "print(\"Recovered message:\", recovered_string)"
   ]
  },
  {
   "cell_type": "code",
   "execution_count": null,
   "id": "f83f1e45",
   "metadata": {},
   "outputs": [],
   "source": []
  },
  {
   "cell_type": "markdown",
   "id": "74c9f093",
   "metadata": {},
   "source": [
    "# Hardware Simulation"
   ]
  },
  {
   "cell_type": "code",
   "execution_count": 13,
   "id": "559c15ff",
   "metadata": {},
   "outputs": [
    {
     "ename": "ModuleNotFoundError",
     "evalue": "No module named 'pynq'",
     "output_type": "error",
     "traceback": [
      "\u001b[1;31m---------------------------------------------------------------------------\u001b[0m",
      "\u001b[1;31mModuleNotFoundError\u001b[0m                       Traceback (most recent call last)",
      "Cell \u001b[1;32mIn[13], line 1\u001b[0m\n\u001b[1;32m----> 1\u001b[0m \u001b[38;5;28;01mfrom\u001b[39;00m\u001b[38;5;250m \u001b[39m\u001b[38;5;21;01mpynq\u001b[39;00m\u001b[38;5;250m \u001b[39m\u001b[38;5;28;01mimport\u001b[39;00m Overlay, allocate\n\u001b[0;32m      2\u001b[0m \u001b[38;5;28;01mimport\u001b[39;00m\u001b[38;5;250m \u001b[39m\u001b[38;5;21;01mnumpy\u001b[39;00m\u001b[38;5;250m \u001b[39m\u001b[38;5;28;01mas\u001b[39;00m\u001b[38;5;250m \u001b[39m\u001b[38;5;21;01mnp\u001b[39;00m\n",
      "\u001b[1;31mModuleNotFoundError\u001b[0m: No module named 'pynq'"
     ]
    }
   ],
   "source": [
    "from pynq import Overlay, allocate\n",
    "import numpy as np\n",
    "\n"
   ]
  },
  {
   "cell_type": "code",
   "execution_count": null,
   "id": "62e54911",
   "metadata": {},
   "outputs": [],
   "source": [
    "\n",
    "N = 512\n",
    "MOD = 7681\n",
    "\n"
   ]
  },
  {
   "cell_type": "code",
   "execution_count": null,
   "id": "81ea4eb2",
   "metadata": {},
   "outputs": [
    {
     "ename": "NameError",
     "evalue": "name 'Overlay' is not defined",
     "output_type": "error",
     "traceback": [
      "\u001b[1;31m---------------------------------------------------------------------------\u001b[0m",
      "\u001b[1;31mNameError\u001b[0m                                 Traceback (most recent call last)",
      "Cell \u001b[1;32mIn[15], line 2\u001b[0m\n\u001b[0;32m      1\u001b[0m \u001b[38;5;66;03m# Load the overlay\u001b[39;00m\n\u001b[1;32m----> 2\u001b[0m ol \u001b[38;5;241m=\u001b[39m \u001b[43mOverlay\u001b[49m(\u001b[38;5;124m\"\u001b[39m\u001b[38;5;124m/home/xilinx/fhe_pipeline.bit\u001b[39m\u001b[38;5;124m\"\u001b[39m)\n\u001b[0;32m      3\u001b[0m dma \u001b[38;5;241m=\u001b[39m ol\u001b[38;5;241m.\u001b[39maxi_dma_0  \u001b[38;5;66;03m# Replace with actual name if different\u001b[39;00m\n\u001b[0;32m      5\u001b[0m \u001b[38;5;66;03m# Input/Output buffers\u001b[39;00m\n",
      "\u001b[1;31mNameError\u001b[0m: name 'Overlay' is not defined"
     ]
    }
   ],
   "source": [
    "\n",
    "ol = Overlay(\"keygen.bit\")\n",
    "dma = ol.axi_dma_0  \n",
    "\n",
    "in_buffer = allocate(shape=(N * 3,), dtype=np.uint32)  \n",
    "out_buffer = allocate(shape=(N,), dtype=np.uint32)     "
   ]
  },
  {
   "cell_type": "code",
   "execution_count": null,
   "id": "a7e8f261",
   "metadata": {},
   "outputs": [
    {
     "ename": "NameError",
     "evalue": "name 'in_buffer' is not defined",
     "output_type": "error",
     "traceback": [
      "\u001b[1;31m---------------------------------------------------------------------------\u001b[0m",
      "\u001b[1;31mNameError\u001b[0m                                 Traceback (most recent call last)",
      "Cell \u001b[1;32mIn[17], line 1\u001b[0m\n\u001b[1;32m----> 1\u001b[0m \u001b[43min_buffer\u001b[49m[\u001b[38;5;241m0\u001b[39m::\u001b[38;5;241m5\u001b[39m] \u001b[38;5;241m=\u001b[39m A\n\u001b[0;32m      2\u001b[0m in_buffer[\u001b[38;5;241m1\u001b[39m::\u001b[38;5;241m5\u001b[39m] \u001b[38;5;241m=\u001b[39m S\n\u001b[0;32m      3\u001b[0m in_buffer[\u001b[38;5;241m2\u001b[39m::\u001b[38;5;241m5\u001b[39m] \u001b[38;5;241m=\u001b[39m E\n",
      "\u001b[1;31mNameError\u001b[0m: name 'in_buffer' is not defined"
     ]
    }
   ],
   "source": [
    "in_buffer[0::3] = A\n",
    "in_buffer[1::3] = S\n",
    "in_buffer[2::3] = E\n",
    "\n"
   ]
  },
  {
   "cell_type": "code",
   "execution_count": 18,
   "id": "3c2f7b48",
   "metadata": {},
   "outputs": [
    {
     "ename": "NameError",
     "evalue": "name 'dma' is not defined",
     "output_type": "error",
     "traceback": [
      "\u001b[1;31m---------------------------------------------------------------------------\u001b[0m",
      "\u001b[1;31mNameError\u001b[0m                                 Traceback (most recent call last)",
      "Cell \u001b[1;32mIn[18], line 1\u001b[0m\n\u001b[1;32m----> 1\u001b[0m \u001b[43mdma\u001b[49m\u001b[38;5;241m.\u001b[39msendchannel\u001b[38;5;241m.\u001b[39mtransfer(in_buffer)\n\u001b[0;32m      2\u001b[0m dma\u001b[38;5;241m.\u001b[39mrecvchannel\u001b[38;5;241m.\u001b[39mtransfer(out_buffer)\n\u001b[0;32m      4\u001b[0m dma\u001b[38;5;241m.\u001b[39msendchannel\u001b[38;5;241m.\u001b[39mwait()\n",
      "\u001b[1;31mNameError\u001b[0m: name 'dma' is not defined"
     ]
    }
   ],
   "source": [
    "dma.sendchannel.transfer(in_buffer)\n",
    "dma.recvchannel.transfer(out_buffer)\n",
    "\n",
    "dma.sendchannel.wait()\n",
    "dma.recvchannel.wait()\n",
    "\n"
   ]
  },
  {
   "cell_type": "code",
   "execution_count": 19,
   "id": "84e23138",
   "metadata": {},
   "outputs": [
    {
     "ename": "NameError",
     "evalue": "name 'out_buffer' is not defined",
     "output_type": "error",
     "traceback": [
      "\u001b[1;31m---------------------------------------------------------------------------\u001b[0m",
      "\u001b[1;31mNameError\u001b[0m                                 Traceback (most recent call last)",
      "Cell \u001b[1;32mIn[19], line 1\u001b[0m\n\u001b[1;32m----> 1\u001b[0m \u001b[38;5;28mprint\u001b[39m(\u001b[43mout_buffer\u001b[49m[:])\n",
      "\u001b[1;31mNameError\u001b[0m: name 'out_buffer' is not defined"
     ]
    }
   ],
   "source": [
    "print(out_buffer[:])"
   ]
  },
  {
   "cell_type": "code",
   "execution_count": null,
   "id": "00e775e4",
   "metadata": {},
   "outputs": [
    {
     "ename": "NameError",
     "evalue": "name 'out_buffer' is not defined",
     "output_type": "error",
     "traceback": [
      "\u001b[1;31m---------------------------------------------------------------------------\u001b[0m",
      "\u001b[1;31mNameError\u001b[0m                                 Traceback (most recent call last)",
      "Cell \u001b[1;32mIn[20], line 1\u001b[0m\n\u001b[1;32m----> 1\u001b[0m recovered_string_hw \u001b[38;5;241m=\u001b[39m bitarray_to_string(\u001b[43mout_buffer\u001b[49m)\n\u001b[0;32m      2\u001b[0m \u001b[38;5;28mprint\u001b[39m(\u001b[38;5;124m\"\u001b[39m\u001b[38;5;124mRecovered message from hardware:\u001b[39m\u001b[38;5;124m\"\u001b[39m, recovered_string_hw)\n",
      "\u001b[1;31mNameError\u001b[0m: name 'out_buffer' is not defined"
     ]
    }
   ],
   "source": [
    "# recovered_string_hw = bitarray_to_string(out_buffer)\n",
    "# print(\"Recovered message from hardware:\", recovered_string_hw)"
   ]
  },
  {
   "cell_type": "code",
   "execution_count": null,
   "id": "22ef352f",
   "metadata": {},
   "outputs": [],
   "source": []
  }
 ],
 "metadata": {
  "kernelspec": {
   "display_name": "Python 3",
   "language": "python",
   "name": "python3"
  },
  "language_info": {
   "codemirror_mode": {
    "name": "ipython",
    "version": 3
   },
   "file_extension": ".py",
   "mimetype": "text/x-python",
   "name": "python",
   "nbconvert_exporter": "python",
   "pygments_lexer": "ipython3",
   "version": "3.12.4"
  }
 },
 "nbformat": 4,
 "nbformat_minor": 5
}
