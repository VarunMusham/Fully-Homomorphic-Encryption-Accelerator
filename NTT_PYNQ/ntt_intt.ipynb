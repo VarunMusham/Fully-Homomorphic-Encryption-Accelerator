{
 "cells": [
  {
   "cell_type": "code",
   "execution_count": 1,
   "id": "89f9f614",
   "metadata": {},
   "outputs": [],
   "source": [
    "import numpy as np\n",
    "from pynq import Overlay, allocate\n",
    "from time import time"
   ]
  },
  {
   "cell_type": "code",
   "execution_count": 2,
   "id": "046827b2",
   "metadata": {},
   "outputs": [
    {
     "data": {
      "application/javascript": [
       "\n",
       "try {\n",
       "require(['notebook/js/codecell'], function(codecell) {\n",
       "  codecell.CodeCell.options_default.highlight_modes[\n",
       "      'magic_text/x-csrc'] = {'reg':[/^%%microblaze/]};\n",
       "  Jupyter.notebook.events.one('kernel_ready.Kernel', function(){\n",
       "      Jupyter.notebook.get_cells().map(function(cell){\n",
       "          if (cell.cell_type == 'code'){ cell.auto_highlight(); } }) ;\n",
       "  });\n",
       "});\n",
       "} catch (e) {};\n"
      ]
     },
     "metadata": {},
     "output_type": "display_data"
    },
    {
     "data": {
      "application/javascript": [
       "\n",
       "try {\n",
       "require(['notebook/js/codecell'], function(codecell) {\n",
       "  codecell.CodeCell.options_default.highlight_modes[\n",
       "      'magic_text/x-csrc'] = {'reg':[/^%%pybind11/]};\n",
       "  Jupyter.notebook.events.one('kernel_ready.Kernel', function(){\n",
       "      Jupyter.notebook.get_cells().map(function(cell){\n",
       "          if (cell.cell_type == 'code'){ cell.auto_highlight(); } }) ;\n",
       "  });\n",
       "});\n",
       "} catch (e) {};\n"
      ]
     },
     "metadata": {},
     "output_type": "display_data"
    }
   ],
   "source": [
    "# 1) Load your FPGA bitstream (make sure ntt.bit is on the board)\n",
    "overlay = Overlay(\"ntt_intt.bit\")"
   ]
  },
  {
   "cell_type": "code",
   "execution_count": 3,
   "id": "233620ae",
   "metadata": {},
   "outputs": [],
   "source": [
    "# overlay.download()\n",
    "\n",
    "# 2) Grab the DMA IP (name it exactly as in your block design)\n",
    "dma = overlay.axi_dma_0  # or adjust if yours is named differently"
   ]
  },
  {
   "cell_type": "code",
   "execution_count": 7,
   "id": "45d56602",
   "metadata": {},
   "outputs": [],
   "source": [
    "# 3) Prepare input data (16-point vector)\n",
    "#    For example: a simple ramp 0,1,2,...,15\n",
    "in_data = np.arange(512, dtype=np.uint16)\n",
    "in_data=[i+10 for i in in_data]\n",
    "# 4) Allocate contiguous buffers in the PL-connected DDR\n",
    "in_buf  = allocate(shape=(512,), dtype=np.uint32)\n",
    "out_buf = allocate(shape=(512,), dtype=np.uint32)\n",
    "\n",
    "# 5) Copy your data into the input buffer\n",
    "in_buf[:] = in_data"
   ]
  },
  {
   "cell_type": "code",
   "execution_count": 8,
   "id": "68439b41",
   "metadata": {},
   "outputs": [],
   "source": [
    "# 5) Start\n",
    "start_time=time()\n",
    "dma.sendchannel.transfer(in_buf)\n",
    "dma.recvchannel.transfer(out_buf)   # receive first\n",
    "\n",
    "dma.sendchannel.wait()              # wait for TX to finish\n",
    "dma.recvchannel.wait()              # then RX\n",
    "end_time=time()"
   ]
  },
  {
   "cell_type": "code",
   "execution_count": 9,
   "id": "f676c677",
   "metadata": {},
   "outputs": [
    {
     "name": "stdout",
     "output_type": "stream",
     "text": [
      "Input:  [ 10  11  12  13  14  15  16  17  18  19  20  21  22  23  24  25  26  27\n",
      "  28  29  30  31  32  33  34  35  36  37  38  39  40  41  42  43  44  45\n",
      "  46  47  48  49  50  51  52  53  54  55  56  57  58  59  60  61  62  63\n",
      "  64  65  66  67  68  69  70  71  72  73  74  75  76  77  78  79  80  81\n",
      "  82  83  84  85  86  87  88  89  90  91  92  93  94  95  96  97  98  99\n",
      " 100 101 102 103 104 105 106 107 108 109 110 111 112 113 114 115 116 117\n",
      " 118 119 120 121 122 123 124 125 126 127 128 129 130 131 132 133 134 135\n",
      " 136 137 138 139 140 141 142 143 144 145 146 147 148 149 150 151 152 153\n",
      " 154 155 156 157 158 159 160 161 162 163 164 165 166 167 168 169 170 171\n",
      " 172 173 174 175 176 177 178 179 180 181 182 183 184 185 186 187 188 189\n",
      " 190 191 192 193 194 195 196 197 198 199 200 201 202 203 204 205 206 207\n",
      " 208 209 210 211 212 213 214 215 216 217 218 219 220 221 222 223 224 225\n",
      " 226 227 228 229 230 231 232 233 234 235 236 237 238 239 240 241 242 243\n",
      " 244 245 246 247 248 249 250 251 252 253 254 255 256 257 258 259 260 261\n",
      " 262 263 264 265 266 267 268 269 270 271 272 273 274 275 276 277 278 279\n",
      " 280 281 282 283 284 285 286 287 288 289 290 291 292 293 294 295 296 297\n",
      " 298 299 300 301 302 303 304 305 306 307 308 309 310 311 312 313 314 315\n",
      " 316 317 318 319 320 321 322 323 324 325 326 327 328 329 330 331 332 333\n",
      " 334 335 336 337 338 339 340 341 342 343 344 345 346 347 348 349 350 351\n",
      " 352 353 354 355 356 357 358 359 360 361 362 363 364 365 366 367 368 369\n",
      " 370 371 372 373 374 375 376 377 378 379 380 381 382 383 384 385 386 387\n",
      " 388 389 390 391 392 393 394 395 396 397 398 399 400 401 402 403 404 405\n",
      " 406 407 408 409 410 411 412 413 414 415 416 417 418 419 420 421 422 423\n",
      " 424 425 426 427 428 429 430 431 432 433 434 435 436 437 438 439 440 441\n",
      " 442 443 444 445 446 447 448 449 450 451 452 453 454 455 456 457 458 459\n",
      " 460 461 462 463 464 465 466 467 468 469 470 471 472 473 474 475 476 477\n",
      " 478 479 480 481 482 483 484 485 486 487 488 489 490 491 492 493 494 495\n",
      " 496 497 498 499 500 501 502 503 504 505 506 507 508 509 510 511 512 513\n",
      " 514 515 516 517 518 519 520 521]\n",
      "NTT Output: [ 10  11  12  13  14  15  16  17  18  19  20  21  22  23  24  25  26  27\n",
      "  28  29  30  31  32  33  34  35  36  37  38  39  40  41  42  43  44  45\n",
      "  46  47  48  49  50  51  52  53  54  55  56  57  58  59  60  61  62  63\n",
      "  64  65  66  67  68  69  70  71  72  73  74  75  76  77  78  79  80  81\n",
      "  82  83  84  85  86  87  88  89  90  91  92  93  94  95  96  97  98  99\n",
      " 100 101 102 103 104 105 106 107 108 109 110 111 112 113 114 115 116 117\n",
      " 118 119 120 121 122 123 124 125 126 127 128 129 130 131 132 133 134 135\n",
      " 136 137 138 139 140 141 142 143 144 145 146 147 148 149 150 151 152 153\n",
      " 154 155 156 157 158 159 160 161 162 163 164 165 166 167 168 169 170 171\n",
      " 172 173 174 175 176 177 178 179 180 181 182 183 184 185 186 187 188 189\n",
      " 190 191 192 193 194 195 196 197 198 199 200 201 202 203 204 205 206 207\n",
      " 208 209 210 211 212 213 214 215 216 217 218 219 220 221 222 223 224 225\n",
      " 226 227 228 229 230 231 232 233 234 235 236 237 238 239 240 241 242 243\n",
      " 244 245 246 247 248 249 250 251 252 253 254 255 256 257 258 259 260 261\n",
      " 262 263 264 265 266 267 268 269 270 271 272 273 274 275 276 277 278 279\n",
      " 280 281 282 283 284 285 286 287 288 289 290 291 292 293 294 295 296 297\n",
      " 298 299 300 301 302 303 304 305 306 307 308 309 310 311 312 313 314 315\n",
      " 316 317 318 319 320 321 322 323 324 325 326 327 328 329 330 331 332 333\n",
      " 334 335 336 337 338 339 340 341 342 343 344 345 346 347 348 349 350 351\n",
      " 352 353 354 355 356 357 358 359 360 361 362 363 364 365 366 367 368 369\n",
      " 370 371 372 373 374 375 376 377 378 379 380 381 382 383 384 385 386 387\n",
      " 388 389 390 391 392 393 394 395 396 397 398 399 400 401 402 403 404 405\n",
      " 406 407 408 409 410 411 412 413 414 415 416 417 418 419 420 421 422 423\n",
      " 424 425 426 427 428 429 430 431 432 433 434 435 436 437 438 439 440 441\n",
      " 442 443 444 445 446 447 448 449 450 451 452 453 454 455 456 457 458 459\n",
      " 460 461 462 463 464 465 466 467 468 469 470 471 472 473 474 475 476 477\n",
      " 478 479 480 481 482 483 484 485 486 487 488 489 490 491 492 493 494 495\n",
      " 496 497 498 499 500 501 502 503 504 505 506 507 508 509 510 511 512 513\n",
      " 514 515 516 517 518 519 520 521]\n"
     ]
    }
   ],
   "source": [
    "# 8) Inspect the result\n",
    "print(\"Input: \", in_buf)\n",
    "print(\"NTT Output:\", out_buf[:])\n",
    "\n",
    "# 9) (Optional) Clean up\n",
    "# in_buf.freebuffer()\n",
    "# out_buf.freebuffer()\n"
   ]
  },
  {
   "cell_type": "code",
   "execution_count": 10,
   "id": "eba9d82a",
   "metadata": {},
   "outputs": [
    {
     "name": "stdout",
     "output_type": "stream",
     "text": [
      "Hardware Time = 0.014537334442138672 sec\n"
     ]
    }
   ],
   "source": [
    "hw_time=end_time-start_time\n",
    "print(f'Hardware Time = {hw_time} sec')"
   ]
  },
  {
   "cell_type": "code",
   "execution_count": 18,
   "id": "bde3f03a",
   "metadata": {},
   "outputs": [
    {
     "name": "stdout",
     "output_type": "stream",
     "text": [
      "First 8 output values: [239, 4814, 1228, 3417, 1212, 4290, 6624, 1829]\n",
      "Time taken: 0.055737 seconds\n"
     ]
    }
   ],
   "source": [
    "import numpy as np\n",
    "from time import time\n"
   ]
  },
  {
   "cell_type": "code",
   "execution_count": 22,
   "id": "5c44ac8a",
   "metadata": {},
   "outputs": [],
   "source": [
    "\n",
    "MOD = 7681\n",
    "ROOT = 7146\n",
    "N = 512\n"
   ]
  },
  {
   "cell_type": "code",
   "execution_count": 23,
   "id": "d726ed92",
   "metadata": {},
   "outputs": [],
   "source": [
    "def mulmod(a, b):\n",
    "    return (a * b) % MOD\n",
    "\n",
    "def addmod(a, b):\n",
    "    res = a + b\n",
    "    return res - MOD if res >= MOD else res\n",
    "\n",
    "def submod(a, b):\n",
    "    res = a - b\n",
    "    return res + MOD if res < 0 else res\n",
    "\n",
    "def modpow(x, e):\n",
    "    res = 1\n",
    "    while e > 0:\n",
    "        if e & 1:\n",
    "            res = mulmod(res, x)\n",
    "        x = mulmod(x, x)\n",
    "        e >>= 1\n",
    "    return res\n",
    "\n"
   ]
  },
  {
   "cell_type": "code",
   "execution_count": 24,
   "id": "bb17b945",
   "metadata": {},
   "outputs": [],
   "source": [
    "def bit_reverse(x, logn):\n",
    "    res = 0\n",
    "    for i in range(logn):\n",
    "        if x & (1 << i):\n",
    "            res |= 1 << (logn - 1 - i)\n",
    "    return res\n",
    "\n"
   ]
  },
  {
   "cell_type": "code",
   "execution_count": 25,
   "id": "714c34d1",
   "metadata": {},
   "outputs": [],
   "source": [
    "def ntt(a):\n",
    "#     logN = N.bit_length() - 1\n",
    "    logN=9\n",
    "    # Bit-reversal permutation\n",
    "    a = [a[bit_reverse(i, logN)] for i in range(N)]\n",
    "\n",
    "    # Cooley-Tukey NTT\n",
    "    len_ = 2\n",
    "    while len_ <= N:\n",
    "        wlen = modpow(ROOT, N // len_)\n",
    "        for i in range(0, N, len_):\n",
    "            w = 1\n",
    "            for j in range(len_ // 2):\n",
    "                u = a[i + j]\n",
    "                v = mulmod(a[i + j + len_ // 2], w)\n",
    "                a[i + j] = addmod(u, v)\n",
    "                a[i + j + len_ // 2] = submod(u, v)\n",
    "                w = mulmod(w, wlen)\n",
    "        len_ <<= 1\n",
    "    return a\n"
   ]
  },
  {
   "cell_type": "code",
   "execution_count": 27,
   "id": "8c8e7c0f",
   "metadata": {},
   "outputs": [
    {
     "name": "stdout",
     "output_type": "stream",
     "text": [
      "First 8 output values: [239, 4814, 1228, 3417, 1212, 4290, 6624, 1829]\n",
      "Time taken: 0.065758 seconds\n"
     ]
    }
   ],
   "source": [
    "input_data = [i % MOD for i in range(N)]\n",
    "\n",
    "start_time = time()\n",
    "output_data = ntt(input_data.copy())\n",
    "end_time = time()\n",
    "\n",
    "print(\"First 8 output values:\", output_data[:8])\n",
    "print(\"Time taken: {:.6f} seconds\".format(end_time - start_time))\n",
    "sw_time=end_time-start_time"
   ]
  },
  {
   "cell_type": "code",
   "execution_count": 29,
   "id": "c96c5c5a",
   "metadata": {},
   "outputs": [
    {
     "name": "stdout",
     "output_type": "stream",
     "text": [
      "10.40906517718987\n"
     ]
    }
   ],
   "source": [
    "speedup=sw_time/hw_time\n",
    "print(speedup)"
   ]
  },
  {
   "cell_type": "code",
   "execution_count": null,
   "id": "b34793bb",
   "metadata": {},
   "outputs": [],
   "source": []
  }
 ],
 "metadata": {
  "kernelspec": {
   "display_name": "Python 3 (ipykernel)",
   "language": "python",
   "name": "python3"
  },
  "language_info": {
   "codemirror_mode": {
    "name": "ipython",
    "version": 3
   },
   "file_extension": ".py",
   "mimetype": "text/x-python",
   "name": "python",
   "nbconvert_exporter": "python",
   "pygments_lexer": "ipython3",
   "version": "3.10.4"
  }
 },
 "nbformat": 4,
 "nbformat_minor": 5
}
