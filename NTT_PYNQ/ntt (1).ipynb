{
 "cells": [
  {
   "cell_type": "code",
   "execution_count": 1,
   "id": "89f9f614",
   "metadata": {},
   "outputs": [],
   "source": [
    "import numpy as np\n",
    "from pynq import Overlay, allocate\n",
    "from time import time"
   ]
  },
  {
   "cell_type": "code",
   "execution_count": null,
   "id": "046827b2",
   "metadata": {},
   "outputs": [
    {
     "data": {
      "application/javascript": "\ntry {\nrequire(['notebook/js/codecell'], function(codecell) {\n  codecell.CodeCell.options_default.highlight_modes[\n      'magic_text/x-csrc'] = {'reg':[/^%%microblaze/]};\n  Jupyter.notebook.events.one('kernel_ready.Kernel', function(){\n      Jupyter.notebook.get_cells().map(function(cell){\n          if (cell.cell_type == 'code'){ cell.auto_highlight(); } }) ;\n  });\n});\n} catch (e) {};\n"
     },
     "metadata": {},
     "output_type": "display_data"
    },
    {
     "data": {
      "application/javascript": "\ntry {\nrequire(['notebook/js/codecell'], function(codecell) {\n  codecell.CodeCell.options_default.highlight_modes[\n      'magic_text/x-csrc'] = {'reg':[/^%%pybind11/]};\n  Jupyter.notebook.events.one('kernel_ready.Kernel', function(){\n      Jupyter.notebook.get_cells().map(function(cell){\n          if (cell.cell_type == 'code'){ cell.auto_highlight(); } }) ;\n  });\n});\n} catch (e) {};\n"
     },
     "metadata": {},
     "output_type": "display_data"
    }
   ],
   "source": [
    "overlay = Overlay(\"ntt_new.bit\")"
   ]
  },
  {
   "cell_type": "code",
   "execution_count": null,
   "id": "233620ae",
   "metadata": {},
   "outputs": [],
   "source": [
    "dma = overlay.axi_dma_0  "
   ]
  },
  {
   "cell_type": "code",
   "execution_count": null,
   "id": "45d56602",
   "metadata": {},
   "outputs": [],
   "source": [
    "\n",
    "in_data = np.arange(512, dtype=np.uint16)\n",
    "in_data=[i+1 for i in in_data]\n",
    "\n",
    "in_buf  = allocate(shape=(512,), dtype=np.uint32)\n",
    "out_buf = allocate(shape=(512,), dtype=np.uint32)\n",
    "\n",
    "in_buf[:] = in_data"
   ]
  },
  {
   "cell_type": "code",
   "execution_count": null,
   "id": "68439b41",
   "metadata": {},
   "outputs": [],
   "source": [
    "\n",
    "start_time=time()\n",
    "dma.sendchannel.transfer(in_buf)\n",
    "dma.recvchannel.transfer(out_buf)\n",
    "dma.sendchannel.wait()              \n",
    "dma.recvchannel.wait()              \n",
    "end_time=time()"
   ]
  },
  {
   "cell_type": "code",
   "execution_count": null,
   "id": "f676c677",
   "metadata": {},
   "outputs": [
    {
     "name": "stdout",
     "output_type": "stream",
     "text": [
      "Input:  [  1   2   3   4   5   6   7   8   9  10  11  12  13  14  15  16  17  18\n",
      "  19  20  21  22  23  24  25  26  27  28  29  30  31  32  33  34  35  36\n",
      "  37  38  39  40  41  42  43  44  45  46  47  48  49  50  51  52  53  54\n",
      "  55  56  57  58  59  60  61  62  63  64  65  66  67  68  69  70  71  72\n",
      "  73  74  75  76  77  78  79  80  81  82  83  84  85  86  87  88  89  90\n",
      "  91  92  93  94  95  96  97  98  99 100 101 102 103 104 105 106 107 108\n",
      " 109 110 111 112 113 114 115 116 117 118 119 120 121 122 123 124 125 126\n",
      " 127 128 129 130 131 132 133 134 135 136 137 138 139 140 141 142 143 144\n",
      " 145 146 147 148 149 150 151 152 153 154 155 156 157 158 159 160 161 162\n",
      " 163 164 165 166 167 168 169 170 171 172 173 174 175 176 177 178 179 180\n",
      " 181 182 183 184 185 186 187 188 189 190 191 192 193 194 195 196 197 198\n",
      " 199 200 201 202 203 204 205 206 207 208 209 210 211 212 213 214 215 216\n",
      " 217 218 219 220 221 222 223 224 225 226 227 228 229 230 231 232 233 234\n",
      " 235 236 237 238 239 240 241 242 243 244 245 246 247 248 249 250 251 252\n",
      " 253 254 255 256 257 258 259 260 261 262 263 264 265 266 267 268 269 270\n",
      " 271 272 273 274 275 276 277 278 279 280 281 282 283 284 285 286 287 288\n",
      " 289 290 291 292 293 294 295 296 297 298 299 300 301 302 303 304 305 306\n",
      " 307 308 309 310 311 312 313 314 315 316 317 318 319 320 321 322 323 324\n",
      " 325 326 327 328 329 330 331 332 333 334 335 336 337 338 339 340 341 342\n",
      " 343 344 345 346 347 348 349 350 351 352 353 354 355 356 357 358 359 360\n",
      " 361 362 363 364 365 366 367 368 369 370 371 372 373 374 375 376 377 378\n",
      " 379 380 381 382 383 384 385 386 387 388 389 390 391 392 393 394 395 396\n",
      " 397 398 399 400 401 402 403 404 405 406 407 408 409 410 411 412 413 414\n",
      " 415 416 417 418 419 420 421 422 423 424 425 426 427 428 429 430 431 432\n",
      " 433 434 435 436 437 438 439 440 441 442 443 444 445 446 447 448 449 450\n",
      " 451 452 453 454 455 456 457 458 459 460 461 462 463 464 465 466 467 468\n",
      " 469 470 471 472 473 474 475 476 477 478 479 480 481 482 483 484 485 486\n",
      " 487 488 489 490 491 492 493 494 495 496 497 498 499 500 501 502 503 504\n",
      " 505 506 507 508 509 510 511 512]\n",
      "NTT Output: [ 751 4814 1228 3417 1212 4290 6624 1829 1777 1120 5150 2522 3939 3621\n",
      " 1574 2149 2354 5000 4207 3213  839 3588 6365 7124 1116 2415 5579 1712\n",
      " 1147 2665 1741  586  420 3004 4506 6153 3734 1004 4166 2935 5158 3104\n",
      " 2250 1085 1270 5692 5928 2776  745 3068 2810 3902 1383 1353 6240 4292\n",
      " 1249 3828 2921 6605 6361 4488 1627 5384 3721 3037 5512 4376 5403 1170\n",
      " 5942 2315 7507  559  717 2507 2084 4758 2244   41 6892  783 4433 2500\n",
      " 6190 2753 7361 3074  156 4856 1365  578 6180 4826 2122 3661 6343 4995\n",
      " 2562 3032 3838 4933 3789 2982 6247 6973  872 4695 7197 3510 5153 6483\n",
      " 2302   35 4728 4979 4047 4024 7612 3160  625 7407 5115 1992  244 2409\n",
      " 5664 3651 1649 6555 3179 5429 6618 3241 2213 1678 5790 2513 4035 4567\n",
      " 5307 7546  261 7147 1496 4233 5182 4026 1918 2424 7149 4987 7598 5545\n",
      " 3480 6391 3379 6209  533 3229 6009 4259 7307 7001 5343 7328 5058 6715\n",
      " 3239  730  768  705 6881 7234  916 1019 2043 6144 2655 4967 1738 3059\n",
      " 4050 5045 4003 1281 2497  269  992 7119 7126 3848 7592 1225  627 1427\n",
      " 4599 6231 1996 1541 3814 1155 6696 6778 3739 3493 2303 5113 2909 5701\n",
      "  737 2450  446 1213 4720 1407 6224 5616 7167 6739 3570 1438  869 6830\n",
      "  147 4501 3869 3992 5818 4082 2301 3964 6795 2437 3313 6257 5373 2050\n",
      " 3908 3157 1002 5836 6449 7313 1195 4642 2960 7556 4238 5850 5915 1159\n",
      " 4827 5019 5973 1846 7425 5323 1196 2150 2342 6010 1254 1319 2931 7294\n",
      " 4209 2527 5974 7537  720 1333 6167 4012 3261 5119 1796  912 3856 4732\n",
      "  374 3205 4868 3087 1351 3177 3300 2668 7022  339 6300 5731 3599  430\n",
      "    2 1553  945 5762 2449 5956 6723 4719 6432 1468 4260 2056 4866 3676\n",
      " 3430  391  473 6014 3355 5628 5173  938 2570 5742 6542 5944 7258 3321\n",
      "   43   50 6177 6900 4672 5888 3166 2124 3119 4110 5431 2202 4514 1025\n",
      " 5126 6150 6253 7616  288 6464 6401 6439 3930  454 2111 7522 1826  168\n",
      " 7543 2910 1160 3940 6636  960 3790  778 3689 1624 7252 2182   20 4745\n",
      " 5251 3143 1987 2936 5673   22 6908 7304 1862 2602 3134 4656 1379 5491\n",
      " 4956 3928  551 1740 3990  614 5520 3518 1505 4760 6925 5177 2054 7443\n",
      " 6544 4009 7238 3145 3122 2190 2441 7134 4867  686 2016 3659 7653 2474\n",
      " 6297  196  922 4187 3380 2236 3331 4137 4607 2174  826 3508 5047 2343\n",
      "  989 6591 5804 2313 7013 4095 7489 4416  979 4669 2736 6386  277 7128\n",
      " 4925 2411 5085 4662 6452 6610 7343 4854 1227 5999 1766 2793 1657 4132\n",
      " 3448 1785 5542 2681  808  564 4248 3341 5920 2877  929 5816 5786 3267\n",
      " 4359 4101 6424 4393 1241 1477 5899 6084 4919 4065 2011 4234 3003 6165\n",
      " 3435 1016 2663 4165 6749 6583 5428 4504 6022 5457 1590 4754 6053   45\n",
      "  804 3581 6330 3956 2962 2169 4815 5020 5595 3548 3230 4647 2019 6049\n",
      " 5392 5340  545 2879 5957 3752 5941 2355]\n"
     ]
    }
   ],
   "source": [
    "\n",
    "print(\"Input: \", in_buf)\n",
    "print(\"NTT Output:\", out_buf[:])\n"
   ]
  },
  {
   "cell_type": "code",
   "execution_count": 27,
   "id": "eba9d82a",
   "metadata": {},
   "outputs": [
    {
     "name": "stdout",
     "output_type": "stream",
     "text": [
      "Hardware Time = 0.004048824310302734 sec\n"
     ]
    }
   ],
   "source": [
    "hw_time=end_time-start_time\n",
    "print(f'Hardware Time = {hw_time} sec')"
   ]
  },
  {
   "cell_type": "code",
   "execution_count": 18,
   "id": "bde3f03a",
   "metadata": {},
   "outputs": [
    {
     "name": "stdout",
     "output_type": "stream",
     "text": [
      "First 8 output values: [239, 4814, 1228, 3417, 1212, 4290, 6624, 1829]\n",
      "Time taken: 0.055737 seconds\n"
     ]
    }
   ],
   "source": [
    "import numpy as np\n",
    "from time import time\n"
   ]
  },
  {
   "cell_type": "code",
   "execution_count": 22,
   "id": "5c44ac8a",
   "metadata": {},
   "outputs": [],
   "source": [
    "\n",
    "MOD = 7681\n",
    "ROOT = 7146\n",
    "N = 512\n"
   ]
  },
  {
   "cell_type": "code",
   "execution_count": 23,
   "id": "d726ed92",
   "metadata": {},
   "outputs": [],
   "source": [
    "def mulmod(a, b):\n",
    "    return (a * b) % MOD\n",
    "\n",
    "def addmod(a, b):\n",
    "    res = a + b\n",
    "    return res - MOD if res >= MOD else res\n",
    "\n",
    "def submod(a, b):\n",
    "    res = a - b\n",
    "    return res + MOD if res < 0 else res\n",
    "\n",
    "def modpow(x, e):\n",
    "    res = 1\n",
    "    while e > 0:\n",
    "        if e & 1:\n",
    "            res = mulmod(res, x)\n",
    "        x = mulmod(x, x)\n",
    "        e >>= 1\n",
    "    return res\n",
    "\n"
   ]
  },
  {
   "cell_type": "code",
   "execution_count": 24,
   "id": "bb17b945",
   "metadata": {},
   "outputs": [],
   "source": [
    "def bit_reverse(x, logn):\n",
    "    res = 0\n",
    "    for i in range(logn):\n",
    "        if x & (1 << i):\n",
    "            res |= 1 << (logn - 1 - i)\n",
    "    return res\n",
    "\n"
   ]
  },
  {
   "cell_type": "code",
   "execution_count": null,
   "id": "714c34d1",
   "metadata": {},
   "outputs": [],
   "source": [
    "def ntt(a):\n",
    "#     logN = N.bit_length() - 1\n",
    "    logN=9\n",
    "    \n",
    "    a = [a[bit_reverse(i, logN)] for i in range(N)]\n",
    "\n",
    "    # Cooley-Tukey NTT\n",
    "    len_ = 2\n",
    "    while len_ <= N:\n",
    "        wlen = modpow(ROOT, N // len_)\n",
    "        for i in range(0, N, len_):\n",
    "            w = 1\n",
    "            for j in range(len_ // 2):\n",
    "                u = a[i + j]\n",
    "                v = mulmod(a[i + j + len_ // 2], w)\n",
    "                a[i + j] = addmod(u, v)\n",
    "                a[i + j + len_ // 2] = submod(u, v)\n",
    "                w = mulmod(w, wlen)\n",
    "        len_ <<= 1\n",
    "    return a\n"
   ]
  },
  {
   "cell_type": "code",
   "execution_count": 27,
   "id": "8c8e7c0f",
   "metadata": {},
   "outputs": [
    {
     "name": "stdout",
     "output_type": "stream",
     "text": [
      "First 8 output values: [239, 4814, 1228, 3417, 1212, 4290, 6624, 1829]\n",
      "Time taken: 0.065758 seconds\n"
     ]
    }
   ],
   "source": [
    "input_data = [i % MOD for i in range(N)]\n",
    "\n",
    "start_time = time()\n",
    "output_data = ntt(input_data.copy())\n",
    "end_time = time()\n",
    "\n",
    "print(\"First 8 output values:\", output_data[:8])\n",
    "print(\"Time taken: {:.6f} seconds\".format(end_time - start_time))\n",
    "sw_time=end_time-start_time"
   ]
  },
  {
   "cell_type": "code",
   "execution_count": 29,
   "id": "c96c5c5a",
   "metadata": {},
   "outputs": [
    {
     "name": "stdout",
     "output_type": "stream",
     "text": [
      "10.40906517718987\n"
     ]
    }
   ],
   "source": [
    "speedup=sw_time/hw_time\n",
    "print(speedup)"
   ]
  },
  {
   "cell_type": "code",
   "execution_count": null,
   "id": "b34793bb",
   "metadata": {},
   "outputs": [],
   "source": []
  }
 ],
 "metadata": {
  "kernelspec": {
   "display_name": "Python 3 (ipykernel)",
   "language": "python",
   "name": "python3"
  },
  "language_info": {
   "codemirror_mode": {
    "name": "ipython",
    "version": 3
   },
   "file_extension": ".py",
   "mimetype": "text/x-python",
   "name": "python",
   "nbconvert_exporter": "python",
   "pygments_lexer": "ipython3",
   "version": "3.10.4"
  }
 },
 "nbformat": 4,
 "nbformat_minor": 5
}
