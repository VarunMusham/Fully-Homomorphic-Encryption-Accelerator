{
 "cells": [
  {
   "cell_type": "code",
   "execution_count": 1,
   "id": "89f9f614",
   "metadata": {},
   "outputs": [],
   "source": [
    "import numpy as np\n",
    "from pynq import Overlay, allocate\n",
    "from time import time"
   ]
  },
  {
   "cell_type": "code",
   "execution_count": 2,
   "id": "046827b2",
   "metadata": {},
   "outputs": [
    {
     "data": {
      "application/javascript": [
       "\n",
       "try {\n",
       "require(['notebook/js/codecell'], function(codecell) {\n",
       "  codecell.CodeCell.options_default.highlight_modes[\n",
       "      'magic_text/x-csrc'] = {'reg':[/^%%microblaze/]};\n",
       "  Jupyter.notebook.events.one('kernel_ready.Kernel', function(){\n",
       "      Jupyter.notebook.get_cells().map(function(cell){\n",
       "          if (cell.cell_type == 'code'){ cell.auto_highlight(); } }) ;\n",
       "  });\n",
       "});\n",
       "} catch (e) {};\n"
      ]
     },
     "metadata": {},
     "output_type": "display_data"
    },
    {
     "data": {
      "application/javascript": [
       "\n",
       "try {\n",
       "require(['notebook/js/codecell'], function(codecell) {\n",
       "  codecell.CodeCell.options_default.highlight_modes[\n",
       "      'magic_text/x-csrc'] = {'reg':[/^%%pybind11/]};\n",
       "  Jupyter.notebook.events.one('kernel_ready.Kernel', function(){\n",
       "      Jupyter.notebook.get_cells().map(function(cell){\n",
       "          if (cell.cell_type == 'code'){ cell.auto_highlight(); } }) ;\n",
       "  });\n",
       "});\n",
       "} catch (e) {};\n"
      ]
     },
     "metadata": {},
     "output_type": "display_data"
    }
   ],
   "source": [
    "# 1) Load your FPGA bitstream (make sure ntt.bit is on the board)\n",
    "overlay = Overlay(\"ntt_mult.bit\")"
   ]
  },
  {
   "cell_type": "code",
   "execution_count": 3,
   "id": "233620ae",
   "metadata": {},
   "outputs": [],
   "source": [
    "# overlay.download()\n",
    "\n",
    "# 2) Grab the DMA IP (name it exactly as in your block design)\n",
    "dma = overlay.axi_dma_0  # or adjust if yours is named differently"
   ]
  },
  {
   "cell_type": "code",
   "execution_count": 4,
   "id": "45d56602",
   "metadata": {},
   "outputs": [],
   "source": [
    "# 3) Prepare input data (16-point vector)\n",
    "#    For example: a simple ramp 0,1,2,...,15\n",
    "in_data = np.arange(1024, dtype=np.uint32)\n",
    "in_data=[i for i in in_data]\n",
    "# 4) Allocate contiguous buffers in the PL-connected DDR\n",
    "in_buf  = allocate(shape=(1024,), dtype=np.uint32)\n",
    "out_buf = allocate(shape=(512,), dtype=np.uint32)\n",
    "\n",
    "# 5) Copy your data into the input buffer\n",
    "in_buf[:] = in_data"
   ]
  },
  {
   "cell_type": "code",
   "execution_count": 5,
   "id": "68439b41",
   "metadata": {},
   "outputs": [],
   "source": [
    "# 5) Start\n",
    "start_time=time()\n",
    "dma.sendchannel.transfer(in_buf)\n",
    "dma.recvchannel.transfer(out_buf)   # receive first\n",
    "\n",
    "dma.sendchannel.wait()              # wait for TX to finish\n",
    "dma.recvchannel.wait()              # then RX\n",
    "end_time=time()"
   ]
  },
  {
   "cell_type": "code",
   "execution_count": 11,
   "id": "f676c677",
   "metadata": {},
   "outputs": [
    {
     "name": "stdout",
     "output_type": "stream",
     "text": [
      "Input:  [   0    1    2 ... 1021 1022 1023]\n",
      "NTT Mult Output: [1936 1663  878 7262 5453 3132  299 4635  778 4090 6890 1497 3273 4537\n",
      " 5289 5529 5257 4473 3177 1369 6730 3898  554 4379   11 2812 5101 6878\n",
      "  462 1215 1456 1185  402 6788 4981 2662 7512 4169  314 3628 6430 1039\n",
      " 2817 4083 4837 5079 4809 4027 2733  927 6290 3460  118 3945 7260 2382\n",
      " 4673 6452   38  793 1036  767 7667 6374 4569 2252 7104 3763 7591 3226\n",
      " 6030  641 2421 3689 4445 4689 4421 3641 2349  545 5910 3082 7423 3571\n",
      " 6888 2012 4305 6086 7355  431  676  409 7311 6020 4217 1902 6756 3417\n",
      " 7247 2884 5690  303 2085 3355 4113 4359 4093 3315 2025  223 5590 2764\n",
      " 7107 3257 6576 1702 3997 5780 7051  129  376  111 7015 5726 3925 1612\n",
      " 6468 3131 6963 2602 5410   25 1809 3081 3841 4089 3825 3049 1761 7642\n",
      " 5330 2506 6851 3003 6324 1452 3749 5534 6807 7568  136 7554 6779 5492\n",
      " 3693 1382 6240 2905 6739 2380 5190 7488 1593 2867 3629 3879 3617 2843\n",
      " 1557 7440 5130 2308 6655 2809 6132 1262 3561 5348 6623 7386 7637 7376\n",
      " 6603 5318 3521 1212 6072 2739 6575 2218 5030 7330 1437 2713 3477 3729\n",
      " 3469 2697 1413 7298 4990 2170 6519 2675 6000 1132 3433 5222 6499 7264\n",
      " 7517 7258 6487 5204 3409 1102 5964 2633 6471 2116 4930 7232 1341 2619\n",
      " 3385 3639 3381 2611 1329 7216 4910 2092 6443 2601 5928 1062 3365 5156\n",
      " 6435 7202 7457 7200 6431 5150 3357 1052 5916 2587 6427 2074 4890 7194\n",
      " 1305 2585 3353 3609 3353 2585 1305 7194 4890 2074 6427 2587 5916 1052\n",
      " 3357 5150 6431 7200 7457 7202 6435 5156 3365 1062 5928 2601 6443 2092\n",
      " 4910 7216 1329 2611 3381 3639 3385 2619 1341 7232 4930 2116 6471 2633\n",
      " 5964 1102 3409 5204 6487 7258 7517 7264 6499 5222 3433 1132 6000 2675\n",
      " 6519 2170 4990 7298 1413 2697 3469 3729 3477 2713 1437 7330 5030 2218\n",
      " 6575 2739 6072 1212 3521 5318 6603 7376 7637 7386 6623 5348 3561 1262\n",
      " 6132 2809 6655 2308 5130 7440 1557 2843 3617 3879 3629 2867 1593 7488\n",
      " 5190 2380 6739 2905 6240 1382 3693 5492 6779 7554  136 7568 6807 5534\n",
      " 3749 1452 6324 3003 6851 2506 5330 7642 1761 3049 3825 4089 3841 3081\n",
      " 1809   25 5410 2602 6963 3131 6468 1612 3925 5726 7015  111  376  129\n",
      " 7051 5780 3997 1702 6576 3257 7107 2764 5590  223 2025 3315 4093 4359\n",
      " 4113 3355 2085  303 5690 2884 7247 3417 6756 1902 4217 6020 7311  409\n",
      "  676  431 7355 6086 4305 2012 6888 3571 7423 3082 5910  545 2349 3641\n",
      " 4421 4689 4445 3689 2421  641 6030 3226 7591 3763 7104 2252 4569 6374\n",
      " 7667  767 1036  793   38 6452 4673 2382 7260 3945  118 3460 6290  927\n",
      " 2733 4027 4809 5079 4837 4083 2817 1039 6430 3628  314 4169 7512 2662\n",
      " 4981 6788  402 1185 1456 1215  462 6878 5101 2812   11 4379  554 3898\n",
      " 6730 1369 3177 4473 5257 5529 5289 4537 3273 1497 6890 4090  778 4635\n",
      "  299 3132 5453 7262  878 1663 1936 1697]\n"
     ]
    }
   ],
   "source": [
    "# 8) Inspect the result\n",
    "print(\"Input: \", in_buf)\n",
    "print(\"NTT Mult Output:\", out_buf[:])\n",
    "\n",
    "# 9) (Optional) Clean up\n",
    "# in_buf.freebuffer()\n",
    "# out_buf.freebuffer()\n"
   ]
  },
  {
   "cell_type": "code",
   "execution_count": 12,
   "id": "eba9d82a",
   "metadata": {},
   "outputs": [
    {
     "name": "stdout",
     "output_type": "stream",
     "text": [
      "Hardware Time = 0.004726886749267578 sec\n"
     ]
    }
   ],
   "source": [
    "hw_time=end_time-start_time\n",
    "print(f'Hardware Time = {hw_time} sec')"
   ]
  },
  {
   "cell_type": "code",
   "execution_count": 18,
   "id": "bde3f03a",
   "metadata": {},
   "outputs": [
    {
     "name": "stdout",
     "output_type": "stream",
     "text": [
      "First 8 output values: [239, 4814, 1228, 3417, 1212, 4290, 6624, 1829]\n",
      "Time taken: 0.055737 seconds\n"
     ]
    }
   ],
   "source": [
    "import numpy as np\n",
    "from time import time\n"
   ]
  },
  {
   "cell_type": "code",
   "execution_count": 22,
   "id": "5c44ac8a",
   "metadata": {},
   "outputs": [],
   "source": [
    "\n",
    "MOD = 7681\n",
    "ROOT = 7146\n",
    "N = 512\n"
   ]
  },
  {
   "cell_type": "code",
   "execution_count": 23,
   "id": "d726ed92",
   "metadata": {},
   "outputs": [],
   "source": [
    "def mulmod(a, b):\n",
    "    return (a * b) % MOD\n",
    "\n",
    "def addmod(a, b):\n",
    "    res = a + b\n",
    "    return res - MOD if res >= MOD else res\n",
    "\n",
    "def submod(a, b):\n",
    "    res = a - b\n",
    "    return res + MOD if res < 0 else res\n",
    "\n",
    "def modpow(x, e):\n",
    "    res = 1\n",
    "    while e > 0:\n",
    "        if e & 1:\n",
    "            res = mulmod(res, x)\n",
    "        x = mulmod(x, x)\n",
    "        e >>= 1\n",
    "    return res\n",
    "\n"
   ]
  },
  {
   "cell_type": "code",
   "execution_count": 24,
   "id": "bb17b945",
   "metadata": {},
   "outputs": [],
   "source": [
    "def bit_reverse(x, logn):\n",
    "    res = 0\n",
    "    for i in range(logn):\n",
    "        if x & (1 << i):\n",
    "            res |= 1 << (logn - 1 - i)\n",
    "    return res\n",
    "\n"
   ]
  },
  {
   "cell_type": "code",
   "execution_count": 25,
   "id": "714c34d1",
   "metadata": {},
   "outputs": [],
   "source": [
    "def ntt(a):\n",
    "#     logN = N.bit_length() - 1\n",
    "    logN=9\n",
    "    # Bit-reversal permutation\n",
    "    a = [a[bit_reverse(i, logN)] for i in range(N)]\n",
    "\n",
    "    # Cooley-Tukey NTT\n",
    "    len_ = 2\n",
    "    while len_ <= N:\n",
    "        wlen = modpow(ROOT, N // len_)\n",
    "        for i in range(0, N, len_):\n",
    "            w = 1\n",
    "            for j in range(len_ // 2):\n",
    "                u = a[i + j]\n",
    "                v = mulmod(a[i + j + len_ // 2], w)\n",
    "                a[i + j] = addmod(u, v)\n",
    "                a[i + j + len_ // 2] = submod(u, v)\n",
    "                w = mulmod(w, wlen)\n",
    "        len_ <<= 1\n",
    "    return a\n"
   ]
  },
  {
   "cell_type": "code",
   "execution_count": 27,
   "id": "8c8e7c0f",
   "metadata": {},
   "outputs": [
    {
     "name": "stdout",
     "output_type": "stream",
     "text": [
      "First 8 output values: [239, 4814, 1228, 3417, 1212, 4290, 6624, 1829]\n",
      "Time taken: 0.065758 seconds\n"
     ]
    }
   ],
   "source": [
    "input_data = [i % MOD for i in range(N)]\n",
    "\n",
    "start_time = time()\n",
    "output_data = ntt(input_data.copy())\n",
    "end_time = time()\n",
    "\n",
    "print(\"First 8 output values:\", output_data[:8])\n",
    "print(\"Time taken: {:.6f} seconds\".format(end_time - start_time))\n",
    "sw_time=end_time-start_time"
   ]
  },
  {
   "cell_type": "code",
   "execution_count": 29,
   "id": "c96c5c5a",
   "metadata": {},
   "outputs": [
    {
     "name": "stdout",
     "output_type": "stream",
     "text": [
      "10.40906517718987\n"
     ]
    }
   ],
   "source": [
    "speedup=sw_time/hw_time\n",
    "print(speedup)"
   ]
  },
  {
   "cell_type": "code",
   "execution_count": 7,
   "id": "b34793bb",
   "metadata": {},
   "outputs": [],
   "source": [
    "exp=[1936, 1663, 878, 7262, 5453, 3132, 299, 4635, 778, 4090, 6890, 1497, 3273, 4537, 5289, 5529, 5257, 4473, 3177, 1369, 6730, 3898, 554, 4379, 11, 2812, 5101, 6878, 462, 1215, 1456, 1185, 402, 6788, 4981, 2662, 7512, 4169, 314, 3628, 6430, 1039, 2817, 4083, 4837, 5079, 4809, 4027, 2733, 927, 6290, 3460, 118, 3945, 7260, 2382, 4673, 6452, 38, 793, 1036, 767, 7667, 6374, 4569, 2252, 7104, 3763, 7591, 3226, 6030, 641, 2421, 3689, 4445, 4689, 4421, 3641, 2349, 545, 5910, 3082, 7423, 3571, 6888, 2012, 4305, 6086, 7355, 431, 676, 409, 7311, 6020, 4217, 1902, 6756, 3417, 7247, 2884, 5690, 303, 2085, 3355, 4113, 4359, 4093, 3315, 2025, 223, 5590, 2764, 7107, 3257, 6576, 1702, 3997, 5780, 7051, 129, 376, 111, 7015, 5726, 3925, 1612, 6468, 3131, 6963, 2602, 5410, 25, 1809, 3081, 3841, 4089, 3825, 3049, 1761, 7642, 5330, 2506, 6851, 3003, 6324, 1452, 3749, 5534, 6807, 7568, 136, 7554, 6779, 5492, 3693, 1382, 6240, 2905, 6739, 2380, 5190, 7488, 1593, 2867, 3629, 3879, 3617, 2843, 1557, 7440, 5130, 2308, 6655, 2809, 6132, 1262, 3561, 5348, 6623, 7386, 7637, 7376, 6603, 5318, 3521, 1212, 6072, 2739, 6575, 2218, 5030, 7330, 1437, 2713, 3477, 3729, 3469, 2697, 1413, 7298, 4990, 2170, 6519, 2675, 6000, 1132, 3433, 5222, 6499, 7264, 7517, 7258, 6487, 5204, 3409, 1102, 5964, 2633, 6471, 2116, 4930, 7232, 1341, 2619, 3385, 3639, 3381, 2611, 1329, 7216, 4910, 2092, 6443, 2601, 5928, 1062, 3365, 5156, 6435, 7202, 7457, 7200, 6431, 5150, 3357, 1052, 5916, 2587, 6427, 2074, 4890, 7194, 1305, 2585, 3353, 3609, 3353, 2585, 1305, 7194, 4890, 2074, 6427, 2587, 5916, 1052, 3357, 5150, 6431, 7200, 7457, 7202, 6435, 5156, 3365, 1062, 5928, 2601, 6443, 2092, 4910, 7216, 1329, 2611, 3381, 3639, 3385, 2619, 1341, 7232, 4930, 2116, 6471, 2633, 5964, 1102, 3409, 5204, 6487, 7258, 7517, 7264, 6499, 5222, 3433, 1132, 6000, 2675, 6519, 2170, 4990, 7298, 1413, 2697, 3469, 3729, 3477, 2713, 1437, 7330, 5030, 2218, 6575, 2739, 6072, 1212, 3521, 5318, 6603, 7376, 7637, 7386, 6623, 5348, 3561, 1262, 6132, 2809, 6655, 2308, 5130, 7440, 1557, 2843, 3617, 3879, 3629, 2867, 1593, 7488, 5190, 2380, 6739, 2905, 6240, 1382, 3693, 5492, 6779, 7554, 136, 7568, 6807, 5534, 3749, 1452, 6324, 3003, 6851, 2506, 5330, 7642, 1761, 3049, 3825, 4089, 3841, 3081, 1809, 25, 5410, 2602, 6963, 3131, 6468, 1612, 3925, 5726, 7015, 111, 376, 129, 7051, 5780, 3997, 1702, 6576, 3257, 7107, 2764, 5590, 223, 2025, 3315, 4093, 4359, 4113, 3355, 2085, 303, 5690, 2884, 7247, 3417, 6756, 1902, 4217, 6020, 7311, 409, 676, 431, 7355, 6086, 4305, 2012, 6888, 3571, 7423, 3082, 5910, 545, 2349, 3641, 4421, 4689, 4445, 3689, 2421, 641, 6030, 3226, 7591, 3763, 7104, 2252, 4569, 6374, 7667, 767, 1036, 793, 38, 6452, 4673, 2382, 7260, 3945, 118, 3460, 6290, 927, 2733, 4027, 4809, 5079, 4837, 4083, 2817, 1039, 6430, 3628, 314, 4169, 7512, 2662, 4981, 6788, 402, 1185, 1456, 1215, 462, 6878, 5101, 2812, 11, 4379, 554, 3898, 6730, 1369, 3177, 4473, 5257, 5529, 5289, 4537, 3273, 1497, 6890, 4090, 778, 4635, 299, 3132, 5453, 7262, 878, 1663, 1936, 1697]\n"
   ]
  },
  {
   "cell_type": "code",
   "execution_count": 9,
   "id": "a2aa783b",
   "metadata": {},
   "outputs": [
    {
     "name": "stdout",
     "output_type": "stream",
     "text": [
      "Done\n"
     ]
    }
   ],
   "source": [
    "for i in range(512):\n",
    "    if out_buf[i]!=exp[i]:\n",
    "        print(\"Error\")\n",
    "print(\"Done\")"
   ]
  },
  {
   "cell_type": "code",
   "execution_count": null,
   "id": "a95828d9",
   "metadata": {},
   "outputs": [],
   "source": []
  }
 ],
 "metadata": {
  "kernelspec": {
   "display_name": "Python 3 (ipykernel)",
   "language": "python",
   "name": "python3"
  },
  "language_info": {
   "codemirror_mode": {
    "name": "ipython",
    "version": 3
   },
   "file_extension": ".py",
   "mimetype": "text/x-python",
   "name": "python",
   "nbconvert_exporter": "python",
   "pygments_lexer": "ipython3",
   "version": "3.10.4"
  }
 },
 "nbformat": 4,
 "nbformat_minor": 5
}
